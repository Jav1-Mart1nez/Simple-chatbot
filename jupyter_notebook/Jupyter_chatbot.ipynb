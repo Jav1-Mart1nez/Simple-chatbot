{
 "cells": [
  {
   "cell_type": "code",
   "execution_count": 1,
   "metadata": {},
   "outputs": [],
   "source": [
    "import json \n",
    "import numpy as np\n",
    "from tensorflow import keras\n",
    "from sklearn.preprocessing import LabelEncoder\n",
    "\n",
    "import colorama \n",
    "colorama.init()\n",
    "from colorama import Fore, Style, Back\n",
    "\n",
    "import random\n",
    "import pickle"
   ]
  },
  {
   "cell_type": "code",
   "execution_count": 2,
   "metadata": {},
   "outputs": [
    {
     "name": "stdout",
     "output_type": "stream",
     "text": [
      "Start messaging with the bot (type quit to stop)!\n",
      "User: Hay alguien ahí?\n",
      "ChatBot: Que bueno que viniste\n",
      "User: ¿Quien eres?\n",
      "ChatBot: Soy Paco de Carglass, perdón me estoy liando, soy Paco tu IA artificial.\n",
      "User: ¿Me puedes ayudar?\n",
      "ChatBot: Claro! tus deseos son órdenes\n",
      "User: No recuerdo mi contraseña\n",
      "ChatBot: Bieeen!!! Esa me la sé!!!, facilítame tu correo electrónico y te envío un mail para que restablezcas la contraseña\n",
      "User: Muchas gracias\n",
      "ChatBot: No hay de que\n",
      "User: Adiós\n",
      "ChatBot: ¿Ya te vas?\n",
      "User: Si, que tengas un buen día\n",
      "ChatBot: Nos vemos pronto\n",
      "User: quit\n"
     ]
    }
   ],
   "source": [
    "with open(\"../inputs/intents.json\") as file:\n",
    "    data = json.load(file)\n",
    "\n",
    "\n",
    "def chat():\n",
    "    # load trained model\n",
    "    model = keras.models.load_model(\"../chat_bot\")\n",
    "\n",
    "    # load tokenizer object\n",
    "    with open(\"../outputs/tokenizer.pickle\", \"rb\") as handle:\n",
    "        tokenizer = pickle.load(handle)\n",
    "\n",
    "    # load label encoder object\n",
    "    with open(\"../outputs/label_encoder.pickle\", \"rb\") as enc:\n",
    "        lbl_encoder = pickle.load(enc)\n",
    "\n",
    "    # parameters\n",
    "    max_len = 20\n",
    "    \n",
    "    while True:\n",
    "        print(Fore.LIGHTBLUE_EX + \"User: \" + Style.RESET_ALL, end=\"\")\n",
    "        inp = input()\n",
    "        if inp.lower() == \"quit\":\n",
    "            break\n",
    "\n",
    "        result = model.predict(keras.preprocessing.sequence.pad_sequences(tokenizer.texts_to_sequences([inp]),\n",
    "                                             truncating='post', maxlen=max_len))\n",
    "        tag = lbl_encoder.inverse_transform([np.argmax(result)])\n",
    "\n",
    "        for i in data[\"intenciones\"]:\n",
    "            if i[\"etiqueta\"] == tag:\n",
    "                print(Fore.GREEN + \"ChatBot:\" + Style.RESET_ALL , np.random.choice(i[\"respuestas\"]))\n",
    "\n",
    "        # print(Fore.GREEN + \"ChatBot:\" + Style.RESET_ALL,random.choice(responses))\n",
    "\n",
    "print(Fore.YELLOW + \"Start messaging with the bot (type quit to stop)!\" + Style.RESET_ALL)\n",
    "chat()"
   ]
  }
 ],
 "metadata": {
  "kernelspec": {
   "display_name": "Python 3",
   "language": "python",
   "name": "python3"
  },
  "language_info": {
   "codemirror_mode": {
    "name": "ipython",
    "version": 3
   },
   "file_extension": ".py",
   "mimetype": "text/x-python",
   "name": "python",
   "nbconvert_exporter": "python",
   "pygments_lexer": "ipython3",
   "version": "3.8.3"
  }
 },
 "nbformat": 4,
 "nbformat_minor": 4
}
